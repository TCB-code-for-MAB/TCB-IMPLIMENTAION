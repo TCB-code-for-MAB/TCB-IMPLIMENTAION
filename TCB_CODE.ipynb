{
 "cells": [
  {
   "cell_type": "code",
   "execution_count": 4,
   "id": "22596d71-23fa-43e6-8c3c-76f3bca3e361",
   "metadata": {
    "tags": []
   },
   "outputs": [],
   "source": [
    "import numpy as np\n",
    "import math\n",
    "\n",
    "arms = 1000 # stores the information of total number of MAB problem\n",
    "Data_set = [] # stores the progrmatically genrated data set with \"arms\" number of arms\n",
    "\n",
    "#Data genration process\n",
    "for i in range(arms):\n",
    "    p = random_integer = np.random.uniform(0, 1)\n",
    "    q = 1-p\n",
    "    random_binary_array = np.random.choice([0, 1], size=100000, p=[p, q])\n",
    "    Data_set.append(random_binary_array)\n"
   ]
  },
  {
   "cell_type": "code",
   "execution_count": 5,
   "id": "7df91e0b-2e94-42f0-baf0-a93f2de85261",
   "metadata": {
    "tags": []
   },
   "outputs": [],
   "source": [
    "%%capture\n",
    "\n",
    "# class implementaion for multi armed bundit\n",
    "class multi_armed_bundit:\n",
    "    #variables to hold the diffrent information about the simulation\n",
    "    m = []   # Holds the details about every arms status in the simulation \n",
    "    distributions = [] # Holds the distribution on which the algorithm have to be runed\n",
    "    total_earned = 0 # stores the total reward earned\n",
    "    explore_count = 0 # stores the total explorations done\n",
    "    mean_avg = [] # used to store the average earning after every 1000 exploration which is used for analysis\n",
    "    \n",
    "    def __init__(self,distributions):\n",
    "        print(\"TCB simulation\")\n",
    "        self.distributions = distributions\n",
    "        self.m = [[0] for _ in range(len(self.distributions))]\n",
    "        \n",
    "    def get_mean(self,distribution):\n",
    "        if(len(distribution) == 0):\n",
    "            return 0\n",
    "        \n",
    "        sum = 0\n",
    "        for i in distribution:\n",
    "            sum = sum + i\n",
    "        \n",
    "        return sum/len(distribution)\n",
    "        \n",
    "    def exploitation(self):\n",
    "        # variables used to hold information about the arm picked \n",
    "        expected_earning_from_selected_distribution = 0\n",
    "        index_of_selected_distribution = 0\n",
    "        \n",
    "       #***************************ARM SELECTION USING TCB*********************************\n",
    "    \n",
    "        for index,distribution in enumerate(self.m):\n",
    "            \n",
    "            #getting the mean of the current arm based on its previously garthered information\n",
    "            mean_value = self.get_mean(distribution)\n",
    "            \n",
    "            #We are taking 500 as upperbound in order to avoid overflow \n",
    "            index_value = min(500,((2*len(distribution)*math.log(len(distribution))*len(self.distributions))/(self.explore_count + 1)))\n",
    "            expected_earning = mean_value  + 1/math.exp(index_value)\n",
    "            \n",
    "           \n",
    "            # checking if the current arm is better then the current selected arm\n",
    "            if(expected_earning > expected_earning_from_selected_distribution):\n",
    "                selected_distribution = distribution\n",
    "                expected_earning_from_selected_distribution = expected_earning\n",
    "                index_of_selected_distribution = index\n",
    "            \n",
    "        #********************************ARM SELECTION DONE*******************************\n",
    "        \n",
    "        #recording the average earnings after every 1000 explorations for analysis purpose\n",
    "        if(self.explore_count % 1000 == 0):\n",
    "            print(self.explore_count,\" -> \",self.total_earned/(self.explore_count + 1))\n",
    "            self.mean_avg.append(self.total_earned/(self.explore_count + 1))\n",
    "        \n",
    "        #randomly picking a value from the selected arm\n",
    "        \n",
    "        random_value_earned_by_selected_distribution = np.random.choice(self.distributions[index_of_selected_distribution])\n",
    "        self.total_earned = self.total_earned + random_value_earned_by_selected_distribution\n",
    "        self.m[index_of_selected_distribution].insert(0,random_value_earned_by_selected_distribution)\n",
    "        self.explore_count = self.explore_count + 1\n",
    "        \n"
   ]
  },
  {
   "cell_type": "code",
   "execution_count": 6,
   "id": "271a2435-77d8-4acd-8ebf-f80b89d081d2",
   "metadata": {
    "tags": []
   },
   "outputs": [
    {
     "name": "stdout",
     "output_type": "stream",
     "text": [
      "TCB simulation\n",
      "0  ->  0.0\n",
      "1000  ->  0.5024975024975025\n",
      "2000  ->  0.736631684157921\n",
      "3000  ->  0.8193935354881706\n",
      "4000  ->  0.8410397400649837\n",
      "5000  ->  0.8534293141371726\n",
      "6000  ->  0.8661889685052492\n",
      "7000  ->  0.8795886301956863\n",
      "8000  ->  0.8873890763654543\n",
      "9000  ->  0.8979002333074103\n"
     ]
    }
   ],
   "source": [
    "# TCB simulation\n",
    "multi_armed_bundit_tcb =  multi_armed_bundit(Data_set)\n",
    "total_iterations = 10000\n",
    "for i in range(0,total_iterations):\n",
    "    multi_armed_bundit_tcb.exploitation()\n",
    "       "
   ]
  }
 ],
 "metadata": {
  "kernelspec": {
   "display_name": "Python 3 (ipykernel)",
   "language": "python",
   "name": "python3"
  },
  "language_info": {
   "codemirror_mode": {
    "name": "ipython",
    "version": 3
   },
   "file_extension": ".py",
   "mimetype": "text/x-python",
   "name": "python",
   "nbconvert_exporter": "python",
   "pygments_lexer": "ipython3",
   "version": "3.11.4"
  }
 },
 "nbformat": 4,
 "nbformat_minor": 5
}
